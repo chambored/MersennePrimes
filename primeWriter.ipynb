{
 "cells": [
  {
   "attachments": {},
   "cell_type": "markdown",
   "metadata": {},
   "source": [
    "# Prime Number CSV Writer\n",
    "\n",
    "This program writes all the prime numbers within a custom range to outpit/primes.csv. This is computational heavy, and large numbers can take an impossibly long time."
   ]
  },
  {
   "cell_type": "code",
   "execution_count": 2,
   "metadata": {},
   "outputs": [],
   "source": [
    "from math import sqrt\n",
    "import csv\n",
    "\n",
    "def writePrimesToCSV(start, end):\n",
    "    with open('output/primes.csv', 'w') as file:\n",
    "        writer = csv.writer(file, delimiter=',', lineterminator=',')\n",
    "        for i in range(start, end):\n",
    "            if isPrime(i):\n",
    "                writer.writerow([i])\n",
    "\n",
    "def isPrime(value):\n",
    "    divisors = 0\n",
    "    for divisor in range(2, int(sqrt(value)) + 1):\n",
    "        if (value % divisor) == 0:\n",
    "            divisors += 1\n",
    "    \n",
    "    if divisors == 0:\n",
    "        return True\n",
    "    else:\n",
    "        return False"
   ]
  },
  {
   "attachments": {},
   "cell_type": "markdown",
   "metadata": {},
   "source": [
    "### To run:"
   ]
  },
  {
   "cell_type": "code",
   "execution_count": 3,
   "metadata": {},
   "outputs": [],
   "source": [
    "## EDIT THESE FOR CUSTOM PRIME RANGE\n",
    "start = 2\n",
    "end = 1000\n",
    "writePrimesToCSV(start, end)"
   ]
  }
 ],
 "metadata": {
  "kernelspec": {
   "display_name": "base",
   "language": "python",
   "name": "python3"
  },
  "language_info": {
   "codemirror_mode": {
    "name": "ipython",
    "version": 3
   },
   "file_extension": ".py",
   "mimetype": "text/x-python",
   "name": "python",
   "nbconvert_exporter": "python",
   "pygments_lexer": "ipython3",
   "version": "3.9.13"
  },
  "orig_nbformat": 4,
  "vscode": {
   "interpreter": {
    "hash": "9c1d5a056f04d97314a9f946bc8c5185004572d3d68312220c0ba298420421f7"
   }
  }
 },
 "nbformat": 4,
 "nbformat_minor": 2
}
